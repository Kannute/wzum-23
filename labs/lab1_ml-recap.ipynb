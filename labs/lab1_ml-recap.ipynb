{
 "cells": [
  {
   "cell_type": "markdown",
   "metadata": {},
   "source": [
    "# Lab1 - Introduction + Neural Networks + PyTorch recap"
   ]
  },
  {
   "cell_type": "markdown",
   "metadata": {},
   "source": [
    "## Plan for today\n",
    "\n",
    "1. Get to know course rules, timetable, etc.\n",
    "2. Briefly recap our ML knowledge:\n",
    "    * implement basic logistic regression from scratch\n",
    "    * get (re)accustomed with PyTorch"
   ]
  },
  {
   "cell_type": "markdown",
   "metadata": {},
   "source": [
    "## 1. Course logistics\n",
    "\n",
    "Let's go over [the course page](https://github.com/gmum/wzum-22) on GitHub."
   ]
  },
  {
   "cell_type": "markdown",
   "metadata": {},
   "source": [
    "## 2. Logistic regression from scratch\n",
    "\n",
    "We will tackle the problem of **classification**, i.e. prediction of a discrete value (class):\n",
    "\n",
    "$$\n",
    "f(x) = y, y \\in \\{0...N\\}\n",
    "$$\n",
    "\n",
    "The most basic variant of this is **binary** classification: $y \\in \\{0, 1\\}$. We will focus on that for the time being.\n",
    "\n",
    "**Logistic regression** is a model which predicts the probability that a given example belongs to the class 1:\n",
    "\n",
    "$$\n",
    "g(x) = \\hat{p}(y = 1 | x )\n",
    "$$\n",
    "\n",
    "**Questions for you:**\n",
    "* what is the probability that $y=0$?\n",
    "* in the multi-class case, how many outputs will the model have?\n",
    "* what conditions must the model outputs satisfy?\n",
    "\n",
    "As an example, we will work with a breast cancer prediction dataset."
   ]
  },
  {
   "cell_type": "code",
   "execution_count": 28,
   "outputs": [
    {
     "name": "stdout",
     "output_type": "stream",
     "text": [
      "The autoreload extension is already loaded. To reload it, use:\n",
      "  %reload_ext autoreload\n"
     ]
    }
   ],
   "source": [
    "%load_ext autoreload\n",
    "%autoreload 2"
   ],
   "metadata": {
    "collapsed": false
   }
  },
  {
   "cell_type": "code",
   "execution_count": 29,
   "metadata": {
    "collapsed": false,
    "jupyter": {
     "outputs_hidden": false
    }
   },
   "outputs": [],
   "source": [
    "from typing import Tuple\n",
    "import numpy as np\n",
    "import matplotlib.pyplot as plt\n",
    "from sklearn.datasets import load_breast_cancer\n",
    "from sklearn.metrics import accuracy_score, precision_score, recall_score\n",
    "from sklearn.model_selection import train_test_split\n",
    "import torch\n",
    "from sklearn.preprocessing import StandardScaler\n",
    "import matplotlib.pyplot as plt\n"
   ]
  },
  {
   "cell_type": "code",
   "execution_count": 30,
   "metadata": {
    "collapsed": false,
    "jupyter": {
     "outputs_hidden": false
    }
   },
   "outputs": [
    {
     "name": "stdout",
     "output_type": "stream",
     "text": [
      ".. _breast_cancer_dataset:\n",
      "\n",
      "Breast cancer wisconsin (diagnostic) dataset\n",
      "--------------------------------------------\n",
      "\n",
      "**Data Set Characteristics:**\n",
      "\n",
      "    :Number of Instances: 569\n",
      "\n",
      "    :Number of Attributes: 30 numeric, predictive attributes and the class\n",
      "\n",
      "    :Attribute Information:\n",
      "        - radius (mean of distances from center to points on the perimeter)\n",
      "        - texture (standard deviation of gray-scale values)\n",
      "        - perimeter\n",
      "        - area\n",
      "        - smoothness (local variation in radius lengths)\n",
      "        - compactness (perimeter^2 / area - 1.0)\n",
      "        - concavity (severity of concave portions of the contour)\n",
      "        - concave points (number of concave portions of the contour)\n",
      "        - symmetry\n",
      "        - fractal dimension (\"coastline approximation\" - 1)\n",
      "\n",
      "        The mean, standard error, and \"worst\" or largest (mean of the three\n",
      "        worst/largest values) of these features were computed for each image,\n",
      "        resulting in 30 features.  For instance, field 0 is Mean Radius, field\n",
      "        10 is Radius SE, field 20 is Worst Radius.\n",
      "\n",
      "        - class:\n",
      "                - WDBC-Malignant\n",
      "                - WDBC-Benign\n",
      "\n",
      "    :Summary Statistics:\n",
      "\n",
      "    ===================================== ====== ======\n",
      "                                           Min    Max\n",
      "    ===================================== ====== ======\n",
      "    radius (mean):                        6.981  28.11\n",
      "    texture (mean):                       9.71   39.28\n",
      "    perimeter (mean):                     43.79  188.5\n",
      "    area (mean):                          143.5  2501.0\n",
      "    smoothness (mean):                    0.053  0.163\n",
      "    compactness (mean):                   0.019  0.345\n",
      "    concavity (mean):                     0.0    0.427\n",
      "    concave points (mean):                0.0    0.201\n",
      "    symmetry (mean):                      0.106  0.304\n",
      "    fractal dimension (mean):             0.05   0.097\n",
      "    radius (standard error):              0.112  2.873\n",
      "    texture (standard error):             0.36   4.885\n",
      "    perimeter (standard error):           0.757  21.98\n",
      "    area (standard error):                6.802  542.2\n",
      "    smoothness (standard error):          0.002  0.031\n",
      "    compactness (standard error):         0.002  0.135\n",
      "    concavity (standard error):           0.0    0.396\n",
      "    concave points (standard error):      0.0    0.053\n",
      "    symmetry (standard error):            0.008  0.079\n",
      "    fractal dimension (standard error):   0.001  0.03\n",
      "    radius (worst):                       7.93   36.04\n",
      "    texture (worst):                      12.02  49.54\n",
      "    perimeter (worst):                    50.41  251.2\n",
      "    area (worst):                         185.2  4254.0\n",
      "    smoothness (worst):                   0.071  0.223\n",
      "    compactness (worst):                  0.027  1.058\n",
      "    concavity (worst):                    0.0    1.252\n",
      "    concave points (worst):               0.0    0.291\n",
      "    symmetry (worst):                     0.156  0.664\n",
      "    fractal dimension (worst):            0.055  0.208\n",
      "    ===================================== ====== ======\n",
      "\n",
      "    :Missing Attribute Values: None\n",
      "\n",
      "    :Class Distribution: 212 - Malignant, 357 - Benign\n",
      "\n",
      "    :Creator:  Dr. William H. Wolberg, W. Nick Street, Olvi L. Mangasarian\n",
      "\n",
      "    :Donor: Nick Street\n",
      "\n",
      "    :Date: November, 1995\n",
      "\n",
      "This is a copy of UCI ML Breast Cancer Wisconsin (Diagnostic) datasets.\n",
      "https://goo.gl/U2Uwz2\n",
      "\n",
      "Features are computed from a digitized image of a fine needle\n",
      "aspirate (FNA) of a breast mass.  They describe\n",
      "characteristics of the cell nuclei present in the image.\n",
      "\n",
      "Separating plane described above was obtained using\n",
      "Multisurface Method-Tree (MSM-T) [K. P. Bennett, \"Decision Tree\n",
      "Construction Via Linear Programming.\" Proceedings of the 4th\n",
      "Midwest Artificial Intelligence and Cognitive Science Society,\n",
      "pp. 97-101, 1992], a classification method which uses linear\n",
      "programming to construct a decision tree.  Relevant features\n",
      "were selected using an exhaustive search in the space of 1-4\n",
      "features and 1-3 separating planes.\n",
      "\n",
      "The actual linear program used to obtain the separating plane\n",
      "in the 3-dimensional space is that described in:\n",
      "[K. P. Bennett and O. L. Mangasarian: \"Robust Linear\n",
      "Programming Discrimination of Two Linearly Inseparable Sets\",\n",
      "Optimization Methods and Software 1, 1992, 23-34].\n",
      "\n",
      "This database is also available through the UW CS ftp server:\n",
      "\n",
      "ftp ftp.cs.wisc.edu\n",
      "cd math-prog/cpo-dataset/machine-learn/WDBC/\n",
      "\n",
      ".. topic:: References\n",
      "\n",
      "   - W.N. Street, W.H. Wolberg and O.L. Mangasarian. Nuclear feature extraction \n",
      "     for breast tumor diagnosis. IS&T/SPIE 1993 International Symposium on \n",
      "     Electronic Imaging: Science and Technology, volume 1905, pages 861-870,\n",
      "     San Jose, CA, 1993.\n",
      "   - O.L. Mangasarian, W.N. Street and W.H. Wolberg. Breast cancer diagnosis and \n",
      "     prognosis via linear programming. Operations Research, 43(4), pages 570-577, \n",
      "     July-August 1995.\n",
      "   - W.H. Wolberg, W.N. Street, and O.L. Mangasarian. Machine learning techniques\n",
      "     to diagnose breast cancer from fine-needle aspirates. Cancer Letters 77 (1994) \n",
      "     163-171.\n"
     ]
    }
   ],
   "source": [
    "print(load_breast_cancer().DESCR)"
   ]
  },
  {
   "cell_type": "code",
   "execution_count": 31,
   "metadata": {
    "collapsed": false,
    "jupyter": {
     "outputs_hidden": false
    }
   },
   "outputs": [
    {
     "name": "stdout",
     "output_type": "stream",
     "text": [
      "array shapes [(512, 30), (57, 30), (512,), (57,)]\n",
      "y values [0 1] [0 1]\n"
     ]
    }
   ],
   "source": [
    "np.random.seed(0)\n",
    "X, y = load_breast_cancer(return_X_y=True)\n",
    "X_train, X_val, y_train, y_val= train_test_split(X, y, train_size=0.9)\n",
    "\n",
    "scaler = StandardScaler()\n",
    "X_train = scaler.fit_transform(X_train)\n",
    "X_val = scaler.transform(X_val)\n",
    "\n",
    "\n",
    "print(\"array shapes\", [t.shape for t in [X_train, X_val, y_train, y_val]])\n",
    "print(\"y values\", np.unique(y_train), np.unique(y_val) )"
   ]
  },
  {
   "cell_type": "markdown",
   "metadata": {},
   "source": [
    "\n",
    "### Linear vs logistic regression\n",
    "\n",
    "We need to transform a vector of 30 features into a value $\\in (0,1)$. Can we use linear regression for that?\n",
    "\n",
    "![classification_regression](https://raw.githubusercontent.com/aghbit/BIT_AI/master/3_logistic_regression/img/clas_reg.png)\n",
    "\n",
    "Recall that in linear regression $f(x) \\in \\mathbb{R} $ is defined as:\n",
    "$$\n",
    "f(x) = w^T x + b\n",
    "$$\n",
    "\n",
    "Where $w, b$ are trainable parameters.\n",
    "\n",
    "In logistic regression, we will need to squash the output, so that $f(x) \\in [0,1]$. A convenient way to do this is the **sigmoid** function:\n",
    "\n",
    "$$\\sigma(x) = \\frac{1}{1+e^{-x}}$$"
   ]
  },
  {
   "cell_type": "code",
   "execution_count": 32,
   "metadata": {},
   "outputs": [
    {
     "name": "stdout",
     "output_type": "stream",
     "text": [
      "sigmoid(-inf) = 0.0\n",
      "sigmoid(0) = 0.5\n",
      "sigmoid(1) = 0.7310585786300049\n",
      "sigmoid(inf) = 1.0\n"
     ]
    },
    {
     "data": {
      "text/plain": "<Figure size 640x480 with 1 Axes>",
      "image/png": "[encoded data removed]"
     },
     "metadata": {},
     "output_type": "display_data"
    }
   ],
   "source": [
    "def sigmoid(x):\n",
    "    return 1 / (1 + np.exp(-x))\n",
    "\n",
    "for x in [\n",
    "   -np.inf,\n",
    "    0,\n",
    "    1,\n",
    "    np.inf\n",
    "]:\n",
    "    print(f\"sigmoid({x}) = {sigmoid(x)}\")\n",
    "\n",
    "x = np.linspace(-10, 10)\n",
    "\n",
    "plt.plot(x, sigmoid(x))\n",
    "plt.grid(True)\n",
    "plt.show()"
   ]
  },
  {
   "cell_type": "markdown",
   "metadata": {},
   "source": [
    "To sum it up, in case of binary classification:\n",
    "$$\n",
    "\\hat{p}(y=1 | x) = \\sigma(w^Tx + b)\n",
    "$$\n",
    "\n",
    "What about the loss function which can train such a model?\n",
    "\n",
    "We'll use a logarithmic loss function which quite nicely captures an intuition, that we want the predictions datapoints which should be predicted as $0$ as close to $0$ as possible, and, analogically, predictions which should be $1$, as close to $1$ as possible:\n",
    "\n",
    "$$ L = \\frac{-1}{n}\\Big(\\sum_{i=0}^n y^{(i)}\\log{f(x^{(i)})} + (1-y^{(i)})\\log{(1-f(x^{(i)}))} \\Big)$$\n",
    "\n",
    "This function is called **Binary Cross-Entropy**"
   ]
  },
  {
   "cell_type": "code",
   "execution_count": 33,
   "metadata": {
    "collapsed": false,
    "jupyter": {
     "outputs_hidden": false
    }
   },
   "outputs": [
    {
     "data": {
      "text/plain": "<Figure size 640x480 with 1 Axes>",
      "image/png": "[encoded data removed]"
     },
     "metadata": {},
     "output_type": "display_data"
    }
   ],
   "source": [
    "x = np.linspace(1e-6, 1 - (1e-6), 1000)\n",
    "\n",
    "plt.plot(x, -np.log(1 - x), label=\"loss when y = 0\")\n",
    "plt.plot(x, -np.log(x), label=\"loss when y = 1\")\n",
    "plt.legend()\n",
    "plt.show()"
   ]
  },
  {
   "cell_type": "markdown",
   "metadata": {},
   "source": [
    "### Task for you: implement the binary cross-entropy function."
   ]
  },
  {
   "cell_type": "code",
   "execution_count": 34,
   "metadata": {
    "collapsed": false,
    "jupyter": {
     "outputs_hidden": false
    }
   },
   "outputs": [],
   "source": [
    "def binary_cross_entropy(x, y, w, b) -> float:\n",
    "    \"\"\"\n",
    "    All arguments are numpy arrays with shapes:\n",
    "        x: [N, F]\n",
    "        y: [N]\n",
    "        w: [F, 1]\n",
    "        b: [1]\n",
    "\n",
    "    Returns:\n",
    "        The value of binary cross-entropy (a single number).\n",
    "    \"\"\"\n",
    "    # Calculate the predicted probabilities of the positive class for each example\n",
    "    z = np.dot(x, w) + b\n",
    "    p = 1 / (1 + np.exp(-z))\n",
    "\n",
    "    # Calculate the binary cross-entropy loss\n",
    "    eps = 1e-8  # A small value to avoid division by zero\n",
    "    loss = -(y * np.log(p + eps) + (1 - y) * np.log(1 - p + eps)).mean()\n",
    "\n",
    "    return loss"
   ]
  },
  {
   "cell_type": "markdown",
   "metadata": {},
   "source": [
    "In order to train the parameters $w, b$ of our model, we need to calculate the gradients of loss with regard to those parameters:\n",
    "\n",
    "$$ \\frac{\\partial L}{\\partial w} \\text{ and } \\frac{\\partial L}{\\partial b} $$\n"
   ]
  },
  {
   "cell_type": "markdown",
   "metadata": {},
   "source": [
    "### Task for you: implement the function which calculates $\\frac{\\partial L}{\\partial w}$ and $\\frac{\\partial L}{\\partial b}$:"
   ]
  },
  {
   "cell_type": "code",
   "execution_count": 37,
   "metadata": {
    "collapsed": false,
    "jupyter": {
     "outputs_hidden": false
    }
   },
   "outputs": [],
   "source": [
    "def calculate_gradients(x, y, w, b) -> Tuple[np.ndarray, np.ndarray]:\n",
    "    \"\"\"\n",
    "    All arguments are numpy arrays with shapes:\n",
    "        x: [N, F]\n",
    "        y: [N]\n",
    "        w: [F, 1]\n",
    "        b: [1]\n",
    "\n",
    "    Returns:\n",
    "        The gradients of loss L with respect to `w` and `b`. Their shapes should be identical to the shapes of `w` and `b`, respectively.\n",
    "    \"\"\"\n",
    "    # Calculate the predicted probabilities of the positive class for each example\n",
    "    z = np.dot(x, w) + b\n",
    "    p = 1 / (1 + np.exp(-z))\n",
    "\n",
    "    # Calculate the gradients of the binary cross-entropy loss with respect to w and b\n",
    "    dL_dp = (y - p) / (p * (1 - p))\n",
    "    dp_dz = p * (1 - p)\n",
    "    dz_dw = x\n",
    "    dz_db = 1\n",
    "\n",
    "    dL_dw = np.dot(dz_dw.T, dL_dp * dp_dz)\n",
    "    dL_db = np.sum(dL_dp * dp_dz)\n",
    "\n",
    "    return dL_dw, dL_db"
   ]
  },
  {
   "cell_type": "markdown",
   "metadata": {},
   "source": [
    "With the gradient calculation implemented, we should be able to train our model with the **Gradient Descent** method.\n",
    "\n",
    "With a good choice of learning rate, you should be able to achieve around 90% validation accuracy."
   ]
  },
  {
   "cell_type": "code",
   "execution_count": 38,
   "metadata": {
    "collapsed": false,
    "jupyter": {
     "outputs_hidden": false
    }
   },
   "outputs": [
    {
     "name": "stderr",
     "output_type": "stream",
     "text": [
      "C:\\Users\\kacpe\\AppData\\Local\\Temp\\ipykernel_17152\\1162416887.py:12: RuntimeWarning: overflow encountered in exp\n",
      "  y_pred_train = 1 / (1 + np.exp(-np.dot(X_train, w) - b))  # calculate predictions based on x, w, and b (don't forget sigmoid!)\n",
      "C:\\Users\\kacpe\\AppData\\Local\\Temp\\ipykernel_17152\\1162416887.py:14: DeprecationWarning: elementwise comparison failed; this will raise an error in the future.\n",
      "  train_accuracy = (y_pred_train.reshape(-1) == y_train).mean()\n"
     ]
    },
    {
     "ename": "AttributeError",
     "evalue": "'bool' object has no attribute 'mean'",
     "output_type": "error",
     "traceback": [
      "\u001B[1;31m---------------------------------------------------------------------------\u001B[0m",
      "\u001B[1;31mAttributeError\u001B[0m                            Traceback (most recent call last)",
      "Cell \u001B[1;32mIn [38], line 14\u001B[0m\n\u001B[0;32m     12\u001B[0m y_pred_train \u001B[38;5;241m=\u001B[39m \u001B[38;5;241m1\u001B[39m \u001B[38;5;241m/\u001B[39m (\u001B[38;5;241m1\u001B[39m \u001B[38;5;241m+\u001B[39m np\u001B[38;5;241m.\u001B[39mexp(\u001B[38;5;241m-\u001B[39mnp\u001B[38;5;241m.\u001B[39mdot(X_train, w) \u001B[38;5;241m-\u001B[39m b))  \u001B[38;5;66;03m# calculate predictions based on x, w, and b (don't forget sigmoid!)\u001B[39;00m\n\u001B[0;32m     13\u001B[0m y_pred_train \u001B[38;5;241m=\u001B[39m (y_pred_train \u001B[38;5;241m>\u001B[39m \u001B[38;5;241m0.5\u001B[39m)\u001B[38;5;241m.\u001B[39mastype(\u001B[38;5;28mint\u001B[39m)\n\u001B[1;32m---> 14\u001B[0m train_accuracy \u001B[38;5;241m=\u001B[39m \u001B[43m(\u001B[49m\u001B[43my_pred_train\u001B[49m\u001B[38;5;241;43m.\u001B[39;49m\u001B[43mreshape\u001B[49m\u001B[43m(\u001B[49m\u001B[38;5;241;43m-\u001B[39;49m\u001B[38;5;241;43m1\u001B[39;49m\u001B[43m)\u001B[49m\u001B[43m \u001B[49m\u001B[38;5;241;43m==\u001B[39;49m\u001B[43m \u001B[49m\u001B[43my_train\u001B[49m\u001B[43m)\u001B[49m\u001B[38;5;241;43m.\u001B[39;49m\u001B[43mmean\u001B[49m()\n\u001B[0;32m     16\u001B[0m y_pred_val \u001B[38;5;241m=\u001B[39m \u001B[38;5;241m1\u001B[39m \u001B[38;5;241m/\u001B[39m (\u001B[38;5;241m1\u001B[39m \u001B[38;5;241m+\u001B[39m np\u001B[38;5;241m.\u001B[39mexp(\u001B[38;5;241m-\u001B[39mnp\u001B[38;5;241m.\u001B[39mdot(X_val, w) \u001B[38;5;241m-\u001B[39m b)) \u001B[38;5;66;03m# calculate predictions based on x, w, and b (don't forget sigmoid!)\u001B[39;00m\n\u001B[0;32m     17\u001B[0m y_pred_val \u001B[38;5;241m=\u001B[39m (y_pred_val \u001B[38;5;241m>\u001B[39m \u001B[38;5;241m0.5\u001B[39m)\u001B[38;5;241m.\u001B[39mastype(\u001B[38;5;28mint\u001B[39m)\n",
      "\u001B[1;31mAttributeError\u001B[0m: 'bool' object has no attribute 'mean'"
     ]
    }
   ],
   "source": [
    "w = np.random.randn(30, 1) \n",
    "b = np.random.randn(1)\n",
    "# how should we initialize w and b?\n",
    "\n",
    "lr = 1e-1\n",
    "# how big should be the learning rate?\n",
    "\n",
    "history = []\n",
    "\n",
    "for epoch in range(100):\n",
    "    \n",
    "    y_pred_train = 1 / (1 + np.exp(-np.dot(X_train, w) - b))  # calculate predictions based on x, w, and b (don't forget sigmoid!)\n",
    "    y_pred_train = (y_pred_train > 0.5).astype(int)\n",
    "    train_accuracy = (y_pred_train.reshape(-1) == y_train).mean()\n",
    "    \n",
    "    y_pred_val = 1 / (1 + np.exp(-np.dot(X_val, w) - b)) # calculate predictions based on x, w, and b (don't forget sigmoid!)\n",
    "    y_pred_val = (y_pred_val > 0.5).astype(int)\n",
    "    val_accuracy = (y_pred_val.reshape(-1) == y_val).mean()\n",
    "    \n",
    "    l_train = binary_cross_entropy(X_train, y_train, w=w, b=b)\n",
    "    dw, db = calculate_gradients(X_train, y_train, w=w, b=b)\n",
    "\n",
    "    w = w - lr * dw  # assign new value of w based on gradient dw\n",
    "    b = b - lr * db # assign new value of b based on gradient db\n",
    "    \n",
    "    elem = dict(epoch=epoch, loss=l_train, train_accuracy=train_accuracy, val_accuracy=val_accuracy)\n",
    "    history.append(elem)\n",
    "\n",
    "\n",
    "\n",
    "plt.plot([h[\"epoch\"] for h in history], [h[\"loss\"] for h in history], label=\"loss\")\n",
    "plt.legend()\n",
    "plt.show()\n",
    "\n",
    "plt.plot([h[\"epoch\"] for h in history], [h[\"train_accuracy\"] for h in history], label=\"train acc\")\n",
    "plt.plot([h[\"epoch\"] for h in history], [h[\"val_accuracy\"] for h in history], label=\"val acc\")\n",
    "plt.legend()\n",
    "plt.show()"
   ]
  },
  {
   "cell_type": "markdown",
   "metadata": {},
   "source": [
    "## 3. Logistic regression with PyTorch automatic differentiation / loss / optimization tools"
   ]
  },
  {
   "cell_type": "code",
   "execution_count": 10,
   "metadata": {},
   "outputs": [],
   "source": [
    "from torch.optim import SGD\n",
    "from torch import nn\n",
    "import torch"
   ]
  },
  {
   "cell_type": "markdown",
   "metadata": {},
   "source": [
    "### Task for you: initialize a logistic regression PyTorch model and train it\n",
    "\n",
    "You should achieve around 90% validation accuracy."
   ]
  },
  {
   "cell_type": "code",
   "execution_count": 11,
   "metadata": {
    "collapsed": false,
    "jupyter": {
     "outputs_hidden": false
    }
   },
   "outputs": [
    {
     "name": "stdout",
     "output_type": "stream",
     "text": [
      "{'0.weight': torch.Size([1, 30]), '0.bias': torch.Size([1])}\n"
     ]
    }
   ],
   "source": [
    "model = nn.Sequential(\n",
    "    nn.Linear(in_features=X_train.shape[1], out_features=1),\n",
    "    nn.Sigmoid()\n",
    ")\n",
    "opt = SGD(model.parameters(), lr=1e-1)\n",
    "loss_fn = nn.BCELoss()\n",
    "\n",
    "print({\n",
    "    name: p.shape\n",
    "    for (name, p) in model.named_parameters()\n",
    "})"
   ]
  },
  {
   "cell_type": "code",
   "execution_count": 12,
   "metadata": {
    "collapsed": false,
    "jupyter": {
     "outputs_hidden": false
    }
   },
   "outputs": [
    {
     "data": {
      "text/plain": "<Figure size 640x480 with 1 Axes>",
      "image/png": "[encoded data removed]"
     },
     "metadata": {},
     "output_type": "display_data"
    },
    {
     "data": {
      "text/plain": "<Figure size 640x480 with 1 Axes>",
      "image/png": "[encoded data removed]"
     },
     "metadata": {},
     "output_type": "display_data"
    }
   ],
   "source": [
    "history = []\n",
    "\n",
    "for epoch in range(100):\n",
    "    opt.zero_grad()\n",
    "    \n",
    "    ### YOUR CODE HERE ###\n",
    "    y_pred_train = model(torch.Tensor(X_train))\n",
    "    y_pred_val = model(torch.Tensor(X_val))\n",
    "\n",
    "    # calculate loss\n",
    "    l_train = loss_fn(y_pred_train.squeeze(), torch.Tensor(y_train))\n",
    "    # calculate gradients with respect to l_train\n",
    "    l_train.backward()\n",
    "\n",
    "    # perform the optimization step with the optimizer\n",
    "    opt.step()\n",
    "    \n",
    "    #######################\n",
    "    \n",
    "    train_accuracy = ((y_pred_train.detach().numpy() > 0.5) == y_train).mean()\n",
    "    val_accuracy = ((y_pred_val.detach().numpy() > 0.5) == y_val).mean()\n",
    "\n",
    "    elem = dict(epoch=epoch, loss=l_train.item(), train_accuracy=train_accuracy, val_accuracy=val_accuracy)\n",
    "    history.append(elem)\n",
    "    \n",
    "\n",
    "\n",
    "    \n",
    "plt.plot([h[\"epoch\"] for h in history], [h[\"loss\"] for h in history], label=\"loss\")\n",
    "plt.legend()\n",
    "plt.show()\n",
    "\n",
    "plt.plot([h[\"epoch\"] for h in history], [h[\"train_accuracy\"] for h in history], label=\"train acc\")\n",
    "plt.plot([h[\"epoch\"] for h in history], [h[\"val_accuracy\"] for h in history], label=\"val acc\")\n",
    "plt.legend()\n",
    "plt.show()"
   ]
  },
  {
   "cell_type": "markdown",
   "metadata": {},
   "source": [
    "## 4. FashionMNIST: a bigger task\n",
    "\n",
    "Let's now train a neural net on a more challenging, multi-label FashionMNIST task."
   ]
  },
  {
   "cell_type": "code",
   "execution_count": 13,
   "metadata": {
    "collapsed": false,
    "jupyter": {
     "outputs_hidden": false
    }
   },
   "outputs": [],
   "source": [
    "from torchvision.datasets import FashionMNIST\n",
    "from torchvision import transforms as tv\n",
    "from torch.utils.data import DataLoader\n",
    "from sklearn.metrics import accuracy_score"
   ]
  },
  {
   "cell_type": "markdown",
   "metadata": {},
   "source": [
    "### Task: load the dataset and visualize some examples along with their classes\n",
    "* what is the shape of a single example from the dataset?"
   ]
  },
  {
   "cell_type": "code",
   "execution_count": 14,
   "metadata": {},
   "outputs": [],
   "source": [
    "ds = FashionMNIST('./data', train=True, target_transform=None, download=True, transform=tv.ToTensor()) # transform the data from PIL image to a tensor\n",
    "ds_test = FashionMNIST('./data', train=False, target_transform=None, download=True, transform=tv.ToTensor()) # transform the data from PIL image to a tensor"
   ]
  },
  {
   "cell_type": "code",
   "execution_count": 15,
   "metadata": {},
   "outputs": [
    {
     "data": {
      "text/plain": "<Figure size 1000x500 with 10 Axes>",
      "image/png": "[encoded data removed]"
     },
     "metadata": {},
     "output_type": "display_data"
    }
   ],
   "source": [
    "# visualize 10 examples from the dataset, along with their class numbers\n",
    "class_names = ['T-shirt/top', 'Trouser', 'Pullover', 'Dress', 'Coat',\n",
    "               'Sandal', 'Shirt', 'Sneaker', 'Bag', 'Ankle boot']\n",
    "fig, axs = plt.subplots(nrows=2, ncols=5, figsize=(10, 5))\n",
    "for i in range(len(class_names)):\n",
    "    # get the image and label from the dataset\n",
    "    img, label = ds[i]\n",
    "    # convert the image tensor to a numpy array and transpose it\n",
    "    img_np = img.numpy().transpose(1, 2, 0)\n",
    "    # plot the image and label on the corresponding axis\n",
    "    ax = axs[i // 5][i % 5]\n",
    "    ax.imshow(img_np)\n",
    "    ax.set_title(class_names[label])\n",
    "    ax.axis('off')\n",
    "\n",
    "plt.show()"
   ]
  },
  {
   "cell_type": "code",
   "execution_count": 16,
   "metadata": {},
   "outputs": [],
   "source": [
    "batch_size=64\n",
    "\n",
    "train_dl = DataLoader(ds, batch_size, shuffle=True)\n",
    "valid_dl = DataLoader(ds_test, batch_size, shuffle=True)"
   ]
  },
  {
   "cell_type": "markdown",
   "metadata": {},
   "source": [
    "### Task: implement and train a neural network with two linear layers and ReLU activation between them. \n",
    "\n",
    "You should achieve at least 80% validation accuracy."
   ]
  },
  {
   "cell_type": "code",
   "execution_count": 17,
   "metadata": {},
   "outputs": [],
   "source": [
    "class FashionNN(nn.Module):\n",
    "    def __init__(self):\n",
    "        super().__init__()\n",
    "\n",
    "        # initialize the layers of the network\n",
    "        # what is the size of the input?\n",
    "        # what is the output size?\n",
    "        self.linear1 = nn.Linear(in_features=28*28, out_features=128)\n",
    "        self.relu = nn.ReLU()\n",
    "        self.linear2 = nn.Linear(in_features=128, out_features=10)\n",
    "\n",
    "    def forward(self, x):\n",
    "        # process x through:\n",
    "        # 1) first layer\n",
    "        # 2) relu activation\n",
    "        # 3) second layer\n",
    "        x = x.view(-1, 28*28)\n",
    "        x = self.linear1(x)\n",
    "        x = self.relu(x)\n",
    "        x = self.linear2(x)\n",
    "        return x"
   ]
  },
  {
   "cell_type": "code",
   "execution_count": 18,
   "metadata": {},
   "outputs": [],
   "source": [
    "net = FashionNN() # actually initialize the net\n",
    "loss_fn = nn.CrossEntropyLoss() # what loss do we use for multilabel classification?\n",
    "opt = torch.optim.Adam(net.parameters())"
   ]
  },
  {
   "cell_type": "code",
   "execution_count": 19,
   "metadata": {},
   "outputs": [
    {
     "name": "stdout",
     "output_type": "stream",
     "text": [
      "#Epoch: 0, train loss: 512.7295565158129, val loss: 73.63556133210659, val_acc: 0.8392\n",
      "#Epoch: 1, train loss: 382.54833993315697, val loss: 65.44279320538044, val_acc: 0.8484\n",
      "#Epoch: 2, train loss: 343.30230140686035, val loss: 61.47023370862007, val_acc: 0.86\n",
      "#Epoch: 3, train loss: 318.112615801394, val loss: 59.97210368514061, val_acc: 0.8593\n",
      "#Epoch: 4, train loss: 301.506252206862, val loss: 55.95321951061487, val_acc: 0.8703\n",
      "#Epoch: 5, train loss: 286.513660594821, val loss: 58.26008416712284, val_acc: 0.869\n",
      "#Epoch: 6, train loss: 271.63262978196144, val loss: 56.85057243704796, val_acc: 0.8702\n",
      "#Epoch: 7, train loss: 260.1030302941799, val loss: 53.96108343452215, val_acc: 0.8782\n",
      "#Epoch: 8, train loss: 251.4360854253173, val loss: 57.97620293498039, val_acc: 0.8698\n",
      "#Epoch: 9, train loss: 241.98046693950891, val loss: 52.647285133600235, val_acc: 0.8779\n"
     ]
    }
   ],
   "source": [
    "number_of_epochs = 10\n",
    "\n",
    "for i in range(number_of_epochs):\n",
    "    train_loss = 0\n",
    "    for iteration, (X_train, y_train) in enumerate(train_dl):\n",
    "        \n",
    "        # perform optimization on the train set and calculate the total train loss\n",
    "        opt.zero_grad()\n",
    "        y_pred = net(X_train)\n",
    "        loss = loss_fn(y_pred, y_train)\n",
    "        loss.backward()\n",
    "        opt.step()\n",
    "        train_loss += loss.item()\n",
    "        \n",
    "        \n",
    "    val_loss = 0\n",
    "    y_predicted = []\n",
    "    y_true = []\n",
    "\n",
    "    with torch.no_grad():\n",
    "        for iteration, (X_val, y_val) in enumerate(valid_dl):\n",
    "            # perform predictions on the validation set and gather them to calculate accuracy\n",
    "            \n",
    "            y_pred = net(X_val)\n",
    "            loss = loss_fn(y_pred, y_val)\n",
    "            val_loss += loss.item()\n",
    "            y_pred = y_pred.argmax(dim=1)\n",
    "            y_true.extend(y_val.numpy())\n",
    "            y_predicted.extend(y_pred.numpy())\n",
    "    \n",
    "            \n",
    "    val_acc = accuracy_score(y_true, y_predicted)\n",
    "    print(f'#Epoch: {i}, train loss: {train_loss}, val loss: {val_loss}, val_acc: {val_acc}')\n"
   ]
  },
  {
   "cell_type": "code",
   "execution_count": null,
   "outputs": [],
   "source": [],
   "metadata": {
    "collapsed": false,
    "pycharm": {
     "is_executing": true
    }
   }
  },
  {
   "cell_type": "code",
   "execution_count": 19,
   "outputs": [],
   "source": [],
   "metadata": {
    "collapsed": false
   }
  }
 ],
 "metadata": {
  "kernelspec": {
   "name": "python3",
   "language": "python",
   "display_name": "Python 3 (ipykernel)"
  },
  "language_info": {
   "codemirror_mode": {
    "name": "ipython",
    "version": 3
   },
   "file_extension": ".py",
   "mimetype": "text/x-python",
   "name": "python",
   "nbconvert_exporter": "python",
   "pygments_lexer": "ipython3",
   "version": "3.8.8"
  }
 },
 "nbformat": 4,
 "nbformat_minor": 4
}
